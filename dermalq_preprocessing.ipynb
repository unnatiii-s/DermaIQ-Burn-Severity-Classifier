{
  "cells": [
    {
      "cell_type": "code",
      "execution_count": null,
      "metadata": {
        "colab": {
          "base_uri": "https://localhost:8080/"
        },
        "id": "UzPikGKym0S6",
        "outputId": "9553af05-4a22-4065-ab7f-c5209d93c0c0"
      },
      "outputs": [
        {
          "name": "stdout",
          "output_type": "stream",
          "text": [
            "Drive already mounted at /content/drive; to attempt to forcibly remount, call drive.mount(\"/content/drive\", force_remount=True).\n"
          ]
        }
      ],
      "source": [
        "from google.colab import drive\n",
        "drive.mount('/content/drive')"
      ]
    },
    {
      "cell_type": "code",
      "execution_count": null,
      "metadata": {
        "colab": {
          "base_uri": "https://localhost:8080/"
        },
        "id": "tCT9gu9km0Wg",
        "outputId": "e9323ba2-ead0-43d1-91ae-332bc2216704"
      },
      "outputs": [
        {
          "name": "stdout",
          "output_type": "stream",
          "text": [
            "✅ Dataset extracted to: /content/skin_burn_dataset\n"
          ]
        }
      ],
      "source": [
        "import zipfile\n",
        "\n",
        "zip_path = \"/content/drive/MyDrive/skin_burn_dataset.zip\"\n",
        "extract_path = \"/content/skin_burn_dataset\"\n",
        "\n",
        "with zipfile.ZipFile(zip_path, 'r') as zip_ref:\n",
        "    zip_ref.extractall(extract_path)\n",
        "\n",
        "print(\"✅ Dataset extracted to:\", extract_path)"
      ]
    },
    {
      "cell_type": "code",
      "execution_count": null,
      "metadata": {
        "colab": {
          "base_uri": "https://localhost:8080/"
        },
        "id": "3vjFVCGRn1uK",
        "outputId": "35a017e0-8ae4-42e4-ecac-5d619e51e9e1"
      },
      "outputs": [
        {
          "name": "stdout",
          "output_type": "stream",
          "text": [
            "🖼️ JPG images: 1225\n",
            "📝 TXT label files: 1441\n",
            "📦 Total files: 2666\n"
          ]
        }
      ],
      "source": [
        "import os\n",
        "\n",
        "dataset_dir = \"/content/skin_burn_dataset\"\n",
        "\n",
        "jpg_count = len([f for f in os.listdir(dataset_dir) if f.endswith(\".jpg\")])\n",
        "txt_count = len([f for f in os.listdir(dataset_dir) if f.endswith(\".txt\")])\n",
        "\n",
        "print(\"🖼️ JPG images:\", jpg_count)\n",
        "print(\"📝 TXT label files:\", txt_count)\n",
        "print(\"📦 Total files:\", jpg_count + txt_count)"
      ]
    },
    {
      "cell_type": "code",
      "execution_count": null,
      "metadata": {
        "id": "nW7v4Q4un6rx"
      },
      "outputs": [],
      "source": [
        "import os\n",
        "import pandas as pd\n",
        "import matplotlib.pyplot as plt\n",
        "import seaborn as sns\n",
        "import shutil"
      ]
    },
    {
      "cell_type": "code",
      "execution_count": null,
      "metadata": {
        "id": "XQchQsYioO-0"
      },
      "outputs": [],
      "source": [
        "label_map = {0: \"First-degree\", 1: \"Second-degree\", 2: \"Third-degree\"}\n",
        "\n",
        "sorted_dir = \"/content/burn_data_sorted\"\n",
        "os.makedirs(sorted_dir, exist_ok=True)"
      ]
    },
    {
      "cell_type": "code",
      "execution_count": null,
      "metadata": {
        "id": "lOM8sgtMxchk"
      },
      "outputs": [],
      "source": [
        "# Create subfolders\n",
        "for label_name in label_map.values():\n",
        "    os.makedirs(os.path.join(sorted_dir, label_name), exist_ok=True)"
      ]
    },
    {
      "cell_type": "code",
      "execution_count": null,
      "metadata": {
        "id": "zGoYEYt1xcj8"
      },
      "outputs": [],
      "source": [
        "data = []\n",
        "skipped = 0"
      ]
    },
    {
      "cell_type": "code",
      "execution_count": null,
      "metadata": {
        "id": "UimGG6HCxcnh"
      },
      "outputs": [],
      "source": [
        "for file in os.listdir(dataset_dir):\n",
        "    if file.endswith(\".txt\"):\n",
        "        txt_path = os.path.join(dataset_dir, file)\n",
        "        with open(txt_path, \"r\") as f:\n",
        "            line = f.readline().strip()\n",
        "            if line:\n",
        "                class_id = int(line.split()[0])\n",
        "                label_name = label_map[class_id]\n",
        "\n",
        "                image_file = file.replace(\".txt\", \".jpg\")\n",
        "                image_path = os.path.join(dataset_dir, image_file)\n",
        "                dst_path = os.path.join(sorted_dir, label_name, image_file)\n",
        "\n",
        "                if os.path.exists(image_path):\n",
        "                    shutil.copy(image_path, dst_path)\n",
        "                    data.append({\n",
        "                        \"image_path\": dst_path,\n",
        "                        \"label\": class_id,\n",
        "                        \"label_name\": label_name\n",
        "                    })\n",
        "                else:\n",
        "                    skipped += 1"
      ]
    },
    {
      "cell_type": "code",
      "execution_count": null,
      "metadata": {
        "id": "uxRiw8OdoPKB"
      },
      "outputs": [],
      "source": [
        "# Save CSV\n",
        "df = pd.DataFrame(data)\n",
        "df.to_csv(\"/content/burn_dataset.csv\", index=False)"
      ]
    },
    {
      "cell_type": "code",
      "execution_count": null,
      "metadata": {
        "colab": {
          "base_uri": "https://localhost:8080/"
        },
        "id": "z6IMAG6bobIY",
        "outputId": "d23979d4-9db0-4cfb-ef28-ccc9795a0c4a"
      },
      "outputs": [
        {
          "name": "stdout",
          "output_type": "stream",
          "text": [
            "\n",
            "✅ Sorted folder: /content/burn_data_sorted\n",
            "✅ New CSV: /content/burn_dataset.csv\n",
            "✅ Images processed: 1221\n",
            "⚠️ Skipped: 216 missing images\n"
          ]
        }
      ],
      "source": [
        "print(f\"\\nSorted folder: {sorted_dir}\")\n",
        "print(f\" New CSV: /content/burn_dataset.csv\")\n",
        "print(f\" Images processed: {len(df)}\")\n",
        "print(f\" Skipped: {skipped} missing images\")"
      ]
    },
    {
      "cell_type": "code",
      "execution_count": null,
      "metadata": {
        "colab": {
          "base_uri": "https://localhost:8080/"
        },
        "id": "JgZf00Reybd1",
        "outputId": "9a4581f7-9307-4a21-e571-9bccf411b496"
      },
      "outputs": [
        {
          "name": "stdout",
          "output_type": "stream",
          "text": [
            "⚠️ Total missing .jpg files: 216\n",
            "🔍 Sample missing files: ['img976.jpg', 'img939.jpg', 'img874.jpg', 'img1203.jpg', 'img1037.jpg', 'img756.jpg', 'img1047.jpg', 'img1328.jpg', 'img1108.jpg', 'img1223.jpg']\n"
          ]
        }
      ],
      "source": [
        "missing_files = []\n",
        "\n",
        "for file in os.listdir(dataset_dir):\n",
        "    if file.endswith(\".txt\"):\n",
        "        img_file = file.replace(\".txt\", \".jpg\")\n",
        "        img_path = os.path.join(dataset_dir, img_file)\n",
        "        if not os.path.exists(img_path):\n",
        "            missing_files.append(img_file)\n",
        "\n",
        "print(f\"⚠️ Total missing .jpg files: {len(missing_files)}\")\n",
        "print(\"🔍 Sample missing files:\", missing_files[:10])"
      ]
    },
    {
      "cell_type": "code",
      "execution_count": null,
      "metadata": {
        "colab": {
          "base_uri": "https://localhost:8080/",
          "height": 494
        },
        "id": "nfikvVETxvXq",
        "outputId": "2d4c15dd-2b63-4a4d-d8c7-94cd54918db4"
      },
      "outputs": [
        {
          "name": "stderr",
          "output_type": "stream",
          "text": [
            "/tmp/ipython-input-11-3416335481.py:2: FutureWarning: \n",
            "\n",
            "Passing `palette` without assigning `hue` is deprecated and will be removed in v0.14.0. Assign the `x` variable to `hue` and set `legend=False` for the same effect.\n",
            "\n",
            "  sns.countplot(x='label_name', data=df, palette='viridis')\n"
          ]
        },
        {
          "data": {
            "image/png": "[encoded data removed]",
            "text/plain": [
              "<Figure size 600x400 with 1 Axes>"
            ]
          },
          "metadata": {},
          "output_type": "display_data"
        }
      ],
      "source": [
        "plt.figure(figsize=(6, 4))\n",
        "sns.countplot(x='label_name', data=df, palette='viridis')\n",
        "plt.title(\"Class Distribution of Burn Images\")\n",
        "plt.xlabel(\"Burn Type\")\n",
        "plt.ylabel(\"Image Count\")\n",
        "plt.tight_layout()\n",
        "plt.show()"
      ]
    },
    {
      "cell_type": "code",
      "execution_count": null,
      "metadata": {
        "colab": {
          "base_uri": "https://localhost:8080/"
        },
        "id": "ZMyu7SqY00vX",
        "outputId": "c7d9e2a7-55cf-459d-bca1-4e203e300f49"
      },
      "outputs": [
        {
          "name": "stdout",
          "output_type": "stream",
          "text": [
            "📊 Class distribution:\n",
            "label_name\n",
            "First-degree     532\n",
            "Second-degree    488\n",
            "Third-degree     201\n",
            "Name: count, dtype: int64\n"
          ]
        }
      ],
      "source": [
        "print(\"📊 Class distribution:\")\n",
        "print(df['label_name'].value_counts())"
      ]
    }
  ],
  "metadata": {
    "colab": {
      "provenance": []
    },
    "kernelspec": {
      "display_name": "Python 3",
      "name": "python3"
    },
    "language_info": {
      "name": "python"
    }
  },
  "nbformat": 4,
  "nbformat_minor": 0
}
